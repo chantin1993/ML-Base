{
 "cells": [
  {
   "cell_type": "markdown",
   "metadata": {},
   "source": [
    "## 07 数据归一化处理"
   ]
  },
  {
   "cell_type": "code",
   "execution_count": 1,
   "metadata": {
    "collapsed": true
   },
   "outputs": [],
   "source": [
    "import numpy as np\n",
    "import matplotlib.pyplot as plt"
   ]
  },
  {
   "cell_type": "markdown",
   "metadata": {},
   "source": [
    "### 最值归一化 Normalization"
   ]
  },
  {
   "cell_type": "code",
   "execution_count": 2,
   "metadata": {
    "collapsed": true
   },
   "outputs": [],
   "source": [
    "x = np.random.randint(0, 100, 100) "
   ]
  },
  {
   "cell_type": "code",
   "execution_count": 3,
   "metadata": {},
   "outputs": [
    {
     "data": {
      "text/plain": [
       "array([83, 44, 45, 28, 71, 32, 18, 63, 97, 15, 15, 10, 41, 96, 79, 38, 81,\n",
       "       44, 24, 84, 10, 33, 52, 58, 85, 19, 33, 24, 82,  9,  4, 51, 15, 28,\n",
       "       77,  8, 27, 78, 89, 62, 16, 12, 60, 48, 45, 31, 34, 45,  3, 65, 20,\n",
       "       35, 95, 45, 34, 23, 99, 93, 95,  8, 86, 11, 73, 55, 62, 51, 68,  5,\n",
       "       40, 87, 78,  1, 27, 63, 54, 37, 42, 26,  6, 83, 17, 36, 66, 97, 97,\n",
       "       53, 45, 74, 58, 35, 15, 90, 41, 46, 94, 77, 59, 86, 22, 59])"
      ]
     },
     "execution_count": 3,
     "metadata": {},
     "output_type": "execute_result"
    }
   ],
   "source": [
    "x"
   ]
  },
  {
   "cell_type": "code",
   "execution_count": 4,
   "metadata": {},
   "outputs": [
    {
     "data": {
      "text/plain": [
       "array([ 0.83673469,  0.43877551,  0.44897959,  0.2755102 ,  0.71428571,\n",
       "        0.31632653,  0.17346939,  0.63265306,  0.97959184,  0.14285714,\n",
       "        0.14285714,  0.09183673,  0.40816327,  0.96938776,  0.79591837,\n",
       "        0.37755102,  0.81632653,  0.43877551,  0.23469388,  0.84693878,\n",
       "        0.09183673,  0.32653061,  0.52040816,  0.58163265,  0.85714286,\n",
       "        0.18367347,  0.32653061,  0.23469388,  0.82653061,  0.08163265,\n",
       "        0.03061224,  0.51020408,  0.14285714,  0.2755102 ,  0.7755102 ,\n",
       "        0.07142857,  0.26530612,  0.78571429,  0.89795918,  0.62244898,\n",
       "        0.15306122,  0.1122449 ,  0.60204082,  0.47959184,  0.44897959,\n",
       "        0.30612245,  0.33673469,  0.44897959,  0.02040816,  0.65306122,\n",
       "        0.19387755,  0.34693878,  0.95918367,  0.44897959,  0.33673469,\n",
       "        0.2244898 ,  1.        ,  0.93877551,  0.95918367,  0.07142857,\n",
       "        0.86734694,  0.10204082,  0.73469388,  0.55102041,  0.62244898,\n",
       "        0.51020408,  0.68367347,  0.04081633,  0.39795918,  0.87755102,\n",
       "        0.78571429,  0.        ,  0.26530612,  0.63265306,  0.54081633,\n",
       "        0.36734694,  0.41836735,  0.25510204,  0.05102041,  0.83673469,\n",
       "        0.16326531,  0.35714286,  0.66326531,  0.97959184,  0.97959184,\n",
       "        0.53061224,  0.44897959,  0.74489796,  0.58163265,  0.34693878,\n",
       "        0.14285714,  0.90816327,  0.40816327,  0.45918367,  0.94897959,\n",
       "        0.7755102 ,  0.59183673,  0.86734694,  0.21428571,  0.59183673])"
      ]
     },
     "execution_count": 4,
     "metadata": {},
     "output_type": "execute_result"
    }
   ],
   "source": [
    "(x - np.min(x)) / (np.max(x) - np.min(x))"
   ]
  },
  {
   "cell_type": "code",
   "execution_count": 5,
   "metadata": {
    "collapsed": true
   },
   "outputs": [],
   "source": [
    "X = np.random.randint(0, 100, (50, 2))"
   ]
  },
  {
   "cell_type": "code",
   "execution_count": 6,
   "metadata": {
    "collapsed": true
   },
   "outputs": [],
   "source": [
    "X = np.array(X, dtype=float)"
   ]
  },
  {
   "cell_type": "code",
   "execution_count": 7,
   "metadata": {},
   "outputs": [
    {
     "data": {
      "text/plain": [
       "array([[ 57.,  81.],\n",
       "       [ 86.,  37.],\n",
       "       [ 90.,   0.],\n",
       "       [ 94.,  28.],\n",
       "       [ 54.,  29.],\n",
       "       [ 14.,  23.],\n",
       "       [ 37.,   3.],\n",
       "       [ 37.,  73.],\n",
       "       [ 51.,  64.],\n",
       "       [ 24.,  94.]])"
      ]
     },
     "execution_count": 7,
     "metadata": {},
     "output_type": "execute_result"
    }
   ],
   "source": [
    "X[:10,:]"
   ]
  },
  {
   "cell_type": "code",
   "execution_count": 8,
   "metadata": {
    "collapsed": true
   },
   "outputs": [],
   "source": [
    "X[:,0] = (X[:,0] - np.min(X[:,0])) / (np.max(X[:,0]) - np.min(X[:,0]))\n",
    "X[:,1] = (X[:,1] - np.min(X[:,1])) / (np.max(X[:,1]) - np.min(X[:,1]))"
   ]
  },
  {
   "cell_type": "code",
   "execution_count": 9,
   "metadata": {},
   "outputs": [
    {
     "data": {
      "text/plain": [
       "array([[ 0.57575758,  0.85263158],\n",
       "       [ 0.86868687,  0.38947368],\n",
       "       [ 0.90909091,  0.        ],\n",
       "       [ 0.94949495,  0.29473684],\n",
       "       [ 0.54545455,  0.30526316],\n",
       "       [ 0.14141414,  0.24210526],\n",
       "       [ 0.37373737,  0.03157895],\n",
       "       [ 0.37373737,  0.76842105],\n",
       "       [ 0.51515152,  0.67368421],\n",
       "       [ 0.24242424,  0.98947368]])"
      ]
     },
     "execution_count": 9,
     "metadata": {},
     "output_type": "execute_result"
    }
   ],
   "source": [
    "X[:10,:]"
   ]
  },
  {
   "cell_type": "code",
   "execution_count": 10,
   "metadata": {},
   "outputs": [
    {
     "data": {
      "image/png": "[encoded data removed]",
      "text/plain": [
       "<matplotlib.figure.Figure at 0x10f40c9b0>"
      ]
     },
     "metadata": {},
     "output_type": "display_data"
    }
   ],
   "source": [
    "plt.scatter(X[:,0], X[:,1])\n",
    "plt.show()"
   ]
  },
  {
   "cell_type": "code",
   "execution_count": 11,
   "metadata": {},
   "outputs": [
    {
     "data": {
      "text/plain": [
       "0.51535353535353534"
      ]
     },
     "execution_count": 11,
     "metadata": {},
     "output_type": "execute_result"
    }
   ],
   "source": [
    "np.mean(X[:,0])"
   ]
  },
  {
   "cell_type": "code",
   "execution_count": 12,
   "metadata": {},
   "outputs": [
    {
     "data": {
      "text/plain": [
       "0.29937519536739376"
      ]
     },
     "execution_count": 12,
     "metadata": {},
     "output_type": "execute_result"
    }
   ],
   "source": [
    "np.std(X[:,0])"
   ]
  },
  {
   "cell_type": "code",
   "execution_count": 13,
   "metadata": {},
   "outputs": [
    {
     "data": {
      "text/plain": [
       "0.53178947368421059"
      ]
     },
     "execution_count": 13,
     "metadata": {},
     "output_type": "execute_result"
    }
   ],
   "source": [
    "np.mean(X[:,1])"
   ]
  },
  {
   "cell_type": "code",
   "execution_count": 14,
   "metadata": {},
   "outputs": [
    {
     "data": {
      "text/plain": [
       "0.32027854912633613"
      ]
     },
     "execution_count": 14,
     "metadata": {},
     "output_type": "execute_result"
    }
   ],
   "source": [
    "np.std(X[:,1])"
   ]
  },
  {
   "cell_type": "markdown",
   "metadata": {},
   "source": [
    "### 均值方差归一化 Standardization"
   ]
  },
  {
   "cell_type": "code",
   "execution_count": 15,
   "metadata": {
    "collapsed": true
   },
   "outputs": [],
   "source": [
    "X2 = np.random.randint(0, 100, (50, 2))"
   ]
  },
  {
   "cell_type": "code",
   "execution_count": 16,
   "metadata": {
    "collapsed": true
   },
   "outputs": [],
   "source": [
    "X2 = np.array(X2, dtype=float)"
   ]
  },
  {
   "cell_type": "code",
   "execution_count": 17,
   "metadata": {},
   "outputs": [
    {
     "data": {
      "text/plain": [
       "array([[ 25.,  15.],\n",
       "       [ 49.,  61.],\n",
       "       [ 13.,  79.],\n",
       "       [ 78.,  87.],\n",
       "       [ 72.,  37.],\n",
       "       [ 55.,  79.],\n",
       "       [ 24.,  76.],\n",
       "       [ 80.,  17.],\n",
       "       [ 32.,  12.],\n",
       "       [ 34.,  84.]])"
      ]
     },
     "execution_count": 17,
     "metadata": {},
     "output_type": "execute_result"
    }
   ],
   "source": [
    "X2[:10,:]"
   ]
  },
  {
   "cell_type": "code",
   "execution_count": 18,
   "metadata": {
    "collapsed": true
   },
   "outputs": [],
   "source": [
    "X2[:,0] = (X2[:,0] - np.mean(X2[:,0])) / np.std(X2[:,0])\n",
    "X2[:,1] = (X2[:,1] - np.mean(X2[:,1])) / np.std(X2[:,1])"
   ]
  },
  {
   "cell_type": "code",
   "execution_count": 19,
   "metadata": {},
   "outputs": [
    {
     "data": {
      "image/png": "[encoded data removed]",
      "text/plain": [
       "<matplotlib.figure.Figure at 0x1128bd3c8>"
      ]
     },
     "metadata": {},
     "output_type": "display_data"
    }
   ],
   "source": [
    "plt.scatter(X2[:,0], X2[:,1])\n",
    "plt.show()"
   ]
  },
  {
   "cell_type": "code",
   "execution_count": 20,
   "metadata": {},
   "outputs": [
    {
     "data": {
      "text/plain": [
       "1.2878587085651815e-16"
      ]
     },
     "execution_count": 20,
     "metadata": {},
     "output_type": "execute_result"
    }
   ],
   "source": [
    "np.mean(X2[:,0])"
   ]
  },
  {
   "cell_type": "code",
   "execution_count": 21,
   "metadata": {},
   "outputs": [
    {
     "data": {
      "text/plain": [
       "1.0000000000000002"
      ]
     },
     "execution_count": 21,
     "metadata": {},
     "output_type": "execute_result"
    }
   ],
   "source": [
    "np.std(X2[:,0])"
   ]
  },
  {
   "cell_type": "code",
   "execution_count": 22,
   "metadata": {},
   "outputs": [
    {
     "data": {
      "text/plain": [
       "-5.7731597280508142e-17"
      ]
     },
     "execution_count": 22,
     "metadata": {},
     "output_type": "execute_result"
    }
   ],
   "source": [
    "np.mean(X2[:,1])"
   ]
  },
  {
   "cell_type": "code",
   "execution_count": 23,
   "metadata": {},
   "outputs": [
    {
     "data": {
      "text/plain": [
       "1.0"
      ]
     },
     "execution_count": 23,
     "metadata": {},
     "output_type": "execute_result"
    }
   ],
   "source": [
    "np.std(X2[:,1])"
   ]
  }
 ],
 "metadata": {
  "kernelspec": {
   "display_name": "Python 3",
   "language": "python",
   "name": "python3"
  },
  "language_info": {
   "codemirror_mode": {
    "name": "ipython",
    "version": 3
   },
   "file_extension": ".py",
   "mimetype": "text/x-python",
   "name": "python",
   "nbconvert_exporter": "python",
   "pygments_lexer": "ipython3",
   "version": "3.6.1"
  }
 },
 "nbformat": 4,
 "nbformat_minor": 2
}
